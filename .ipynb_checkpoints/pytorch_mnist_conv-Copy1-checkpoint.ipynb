{
 "cells": [
  {
   "cell_type": "code",
   "execution_count": 1,
   "metadata": {},
   "outputs": [],
   "source": [
    "import torch\n",
    "import torchvision\n",
    "import torchvision.transforms as transforms\n",
    "import torch.nn as nn\n",
    "import torch.nn.functional as F\n",
    "import torch.optim as optim\n",
    "import numpy as np\n",
    "import matplotlib.pyplot as plt\n",
    "import time\n",
    "from torchvision import datasets"
   ]
  },
  {
   "cell_type": "code",
   "execution_count": 2,
   "metadata": {},
   "outputs": [],
   "source": [
    "transform = transforms.Compose(\n",
    "    [transforms.ToTensor(),\n",
    "     transforms.Normalize((0.5,), (0.5,))]\n",
    ")"
   ]
  },
  {
   "cell_type": "code",
   "execution_count": 3,
   "metadata": {},
   "outputs": [],
   "source": [
    "# get the data\n",
    "trainset = datasets.MNIST(\n",
    "    root = 'data',\n",
    "    train = True,\n",
    "    download = True, \n",
    "    transform = transform\n",
    ")\n",
    "trainloader = torch.utils.data.DataLoader(\n",
    "    trainset, \n",
    "    batch_size = 4,\n",
    "    shuffle = True\n",
    ")\n",
    "testset = datasets.MNIST(\n",
    "    root = 'data',\n",
    "    train = False,\n",
    "    download = True,\n",
    "    transform = transform\n",
    ")\n",
    "testloader = torch.utils.data.DataLoader(\n",
    "    testset, \n",
    "    batch_size = 4,\n",
    "    shuffle = False\n",
    ")"
   ]
  },
  {
   "cell_type": "code",
   "execution_count": 4,
   "metadata": {},
   "outputs": [
    {
     "name": "stdout",
     "output_type": "stream",
     "text": [
      "torch.Size([4, 1, 28, 28])\n",
      "tensor([5, 2, 4, 6])\n"
     ]
    },
    {
     "data": {
      "image/png": "[encoded data removed]",
      "text/plain": [
       "<Figure size 864x576 with 4 Axes>"
      ]
     },
     "metadata": {
      "needs_background": "light"
     },
     "output_type": "display_data"
    }
   ],
   "source": [
    "for batch_1 in trainloader:\n",
    "    batch = batch_1\n",
    "    break\n",
    "print(batch[0].shape) # as batch[0] contains the image pixels -> tensors\n",
    "print(batch[1]) # batch[1] contains the labels -> tensors\n",
    "plt.figure(figsize=(12, 8))\n",
    "for i in range (batch[0].shape[0]):\n",
    "    plt.subplot(1, 4, i+1)\n",
    "    plt.axis('off')\n",
    "    plt.imshow(batch[0][i].reshape(28, 28), cmap='gray')\n",
    "    plt.title(int(batch[1][i]))\n",
    "    plt.savefig('digit_mnist.png')\n",
    "plt.show()"
   ]
  },
  {
   "cell_type": "code",
   "execution_count": 5,
   "metadata": {},
   "outputs": [],
   "source": [
    "class Net(nn.Module):\n",
    "    def __init__(self):\n",
    "        super(Net, self).__init__()\n",
    "        self.conv1 = nn.Conv2d(in_channels=1, out_channels=20, \n",
    "                               kernel_size=5, stride=1)\n",
    "        self.conv2 = nn.Conv2d(in_channels=20, out_channels=50, \n",
    "                               kernel_size=5, stride=1)\n",
    "        self.fc1 = nn.Linear(in_features=800, out_features=500)\n",
    "        self.fc2 = nn.Linear(in_features=500, out_features=10)\n",
    "    def forward(self, x):\n",
    "        x = F.relu(self.conv1(x))\n",
    "        x = F.max_pool2d(x, 2, 2)\n",
    "        x = F.relu(self.conv2(x))\n",
    "        x = F.max_pool2d(x, 2, 2)\n",
    "        x = x.view(x.size(0), -1)\n",
    "        x = F.relu(self.fc1(x))\n",
    "        x = self.fc2(x)\n",
    "        return x"
   ]
  },
  {
   "cell_type": "code",
   "execution_count": 6,
   "metadata": {},
   "outputs": [],
   "source": [
    "device = torch.device('cuda:0' if torch.cuda.is_available() else 'cpu')"
   ]
  },
  {
   "cell_type": "code",
   "execution_count": 7,
   "metadata": {},
   "outputs": [
    {
     "name": "stdout",
     "output_type": "stream",
     "text": [
      "Net(\n",
      "  (conv1): Conv2d(1, 20, kernel_size=(5, 5), stride=(1, 1))\n",
      "  (conv2): Conv2d(20, 50, kernel_size=(5, 5), stride=(1, 1))\n",
      "  (fc1): Linear(in_features=800, out_features=500, bias=True)\n",
      "  (fc2): Linear(in_features=500, out_features=10, bias=True)\n",
      ")\n"
     ]
    }
   ],
   "source": [
    "net = Net().to(device)\n",
    "print(net)"
   ]
  },
  {
   "cell_type": "code",
   "execution_count": 8,
   "metadata": {},
   "outputs": [],
   "source": [
    "# loss function\n",
    "criterion = nn.CrossEntropyLoss()\n",
    "# optimizer\n",
    "optimizer = optim.SGD(net.parameters(), lr=0.001, momentum=0.9)"
   ]
  },
  {
   "cell_type": "code",
   "execution_count": 9,
   "metadata": {},
   "outputs": [
    {
     "name": "stdout",
     "output_type": "stream",
     "text": [
      "[Epoch 1,  5000 Mini Batches] loss: 0.301\n",
      "[Epoch 1, 10000 Mini Batches] loss: 0.083\n",
      "[Epoch 1, 15000 Mini Batches] loss: 0.061\n",
      "[Epoch 2,  5000 Mini Batches] loss: 0.046\n",
      "[Epoch 2, 10000 Mini Batches] loss: 0.043\n",
      "[Epoch 2, 15000 Mini Batches] loss: 0.038\n",
      "[Epoch 3,  5000 Mini Batches] loss: 0.027\n",
      "[Epoch 3, 10000 Mini Batches] loss: 0.029\n",
      "[Epoch 3, 15000 Mini Batches] loss: 0.026\n",
      "[Epoch 4,  5000 Mini Batches] loss: 0.021\n",
      "[Epoch 4, 10000 Mini Batches] loss: 0.017\n",
      "[Epoch 4, 15000 Mini Batches] loss: 0.021\n",
      "[Epoch 5,  5000 Mini Batches] loss: 0.011\n",
      "[Epoch 5, 10000 Mini Batches] loss: 0.017\n",
      "[Epoch 5, 15000 Mini Batches] loss: 0.015\n",
      "[Epoch 6,  5000 Mini Batches] loss: 0.009\n",
      "[Epoch 6, 10000 Mini Batches] loss: 0.014\n",
      "[Epoch 6, 15000 Mini Batches] loss: 0.012\n",
      "[Epoch 7,  5000 Mini Batches] loss: 0.009\n",
      "[Epoch 7, 10000 Mini Batches] loss: 0.008\n",
      "[Epoch 7, 15000 Mini Batches] loss: 0.010\n",
      "[Epoch 8,  5000 Mini Batches] loss: 0.007\n",
      "[Epoch 8, 10000 Mini Batches] loss: 0.006\n",
      "[Epoch 8, 15000 Mini Batches] loss: 0.009\n",
      "[Epoch 9,  5000 Mini Batches] loss: 0.004\n",
      "[Epoch 9, 10000 Mini Batches] loss: 0.005\n",
      "[Epoch 9, 15000 Mini Batches] loss: 0.006\n",
      "[Epoch 10,  5000 Mini Batches] loss: 0.004\n",
      "[Epoch 10, 10000 Mini Batches] loss: 0.005\n",
      "[Epoch 10, 15000 Mini Batches] loss: 0.004\n",
      "Done Training\n",
      "5.53 minutes\n"
     ]
    }
   ],
   "source": [
    "def train(net):\n",
    "    start = time.time()\n",
    "    for epoch in range(10): # no. of epochs\n",
    "        running_loss = 0.0\n",
    "        for i, data in enumerate(trainloader, 0):\n",
    "            # data pixels and labels to GPU if available\n",
    "            inputs, labels = data[0].to(device, non_blocking=True), data[1].to(device, non_blocking=True)\n",
    "            # set the parameter gradients to zero\n",
    "            optimizer.zero_grad()\n",
    "            outputs = net(inputs)\n",
    "            loss = criterion(outputs, labels)\n",
    "            # propagate the loss backward\n",
    "            loss.backward()\n",
    "            optimizer.step()\n",
    "            # print for mini batches\n",
    "            running_loss += loss.item()\n",
    "            if i % 5000 == 4999:  # every 5000 mini batches\n",
    "                print('[Epoch %d, %5d Mini Batches] loss: %.3f' %\n",
    "                      (epoch + 1, i + 1, running_loss/5000))\n",
    "                running_loss = 0.0\n",
    "    end = time.time()\n",
    "    print('Done Training')\n",
    "    print('%0.2f minutes' %((end - start) / 60))\n",
    "    \n",
    "train(net)"
   ]
  },
  {
   "cell_type": "code",
   "execution_count": 10,
   "metadata": {},
   "outputs": [
    {
     "name": "stdout",
     "output_type": "stream",
     "text": [
      "Accuracy of the network on test images: 99.280 %\n"
     ]
    }
   ],
   "source": [
    "correct = 0\n",
    "total = 0\n",
    "with torch.no_grad():\n",
    "    for data in testloader:\n",
    "        inputs, labels = data[0].to(device, non_blocking=True), data[1].to(device, non_blocking=True)\n",
    "        outputs = net(inputs)\n",
    "        _, predicted = torch.max(outputs.data, 1)\n",
    "        total += labels.size(0)\n",
    "        correct += (predicted == labels).sum().item()\n",
    "print('Accuracy of the network on test images: %0.3f %%' % (\n",
    "    100 * correct / total))"
   ]
  }
 ],
 "metadata": {
  "kernelspec": {
   "display_name": "Python 3",
   "language": "python",
   "name": "python3"
  },
  "language_info": {
   "codemirror_mode": {
    "name": "ipython",
    "version": 3
   },
   "file_extension": ".py",
   "mimetype": "text/x-python",
   "name": "python",
   "nbconvert_exporter": "python",
   "pygments_lexer": "ipython3",
   "version": "3.7.4"
  }
 },
 "nbformat": 4,
 "nbformat_minor": 4
}
